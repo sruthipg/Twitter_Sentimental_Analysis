{
 "cells": [
  {
   "cell_type": "markdown",
   "metadata": {},
   "source": [
    "### Word2vec+CNN Text Classification\n"
   ]
  },
  {
   "cell_type": "code",
   "execution_count": 1,
   "metadata": {},
   "outputs": [
    {
     "name": "stderr",
     "output_type": "stream",
     "text": [
      "[nltk_data] Downloading package punkt to /Users/sruthipg/nltk_data...\n",
      "[nltk_data]   Package punkt is already up-to-date!\n",
      "[nltk_data] Downloading package stopwords to\n",
      "[nltk_data]     /Users/sruthipg/nltk_data...\n",
      "[nltk_data]   Package stopwords is already up-to-date!\n",
      "[nltk_data] Downloading package wordnet to\n",
      "[nltk_data]     /Users/sruthipg/nltk_data...\n",
      "[nltk_data]   Package wordnet is already up-to-date!\n"
     ]
    }
   ],
   "source": [
    "import pandas as pd\n",
    "import re\n",
    "import numpy as np\n",
    "from sklearn.cluster import KMeans\n",
    "import contractions\n",
    "from unidecode import unidecode\n",
    "\n",
    "import nltk\n",
    "nltk.download('punkt')\n",
    "nltk.download('stopwords')\n",
    "from nltk.tokenize import word_tokenize\n",
    "import nltk.corpus\n",
    "from sklearn import cluster\n",
    "\n",
    "# Visualization and Analysis\n",
    "import matplotlib.pyplot  as plt\n",
    "from wordcloud import WordCloud\n",
    "\n",
    "import gensim\n",
    "from nltk.stem import WordNetLemmatizer\n",
    "nltk.download('wordnet')\n",
    "\n",
    "from gensim.models import Word2Vec\n",
    "from keras.models import Sequential\n",
    "from keras.layers import Dense, Dropout, Conv1D, MaxPool1D, GlobalMaxPool1D, Embedding, Activation\n",
    "from sklearn.model_selection import train_test_split\n",
    "import tensorflow as tf"
   ]
  },
  {
   "cell_type": "code",
   "execution_count": 6,
   "metadata": {},
   "outputs": [
    {
     "data": {
      "text/plain": [
       "(1600000, 6)"
      ]
     },
     "execution_count": 6,
     "metadata": {},
     "output_type": "execute_result"
    }
   ],
   "source": [
    "data = pd.read_csv(\"/Users/sruthipg/Documents/Twitter/CA_2/twitter_data.csv\", header=None)\n",
    "data.shape"
   ]
  },
  {
   "cell_type": "code",
   "execution_count": 7,
   "metadata": {},
   "outputs": [],
   "source": [
    "headers = ['sentiment', \"ids\", \"date\", \"flag\", \"user\", \"tweets\"]\n",
    "data.columns = headers"
   ]
  },
  {
   "cell_type": "code",
   "execution_count": 8,
   "metadata": {},
   "outputs": [],
   "source": [
    "dataset = data[['sentiment','tweets']]"
   ]
  },
  {
   "cell_type": "code",
   "execution_count": 9,
   "metadata": {},
   "outputs": [],
   "source": [
    "dataset.loc[dataset['sentiment'] == 4, 'sentiment'] = 1"
   ]
  },
  {
   "cell_type": "code",
   "execution_count": 10,
   "metadata": {},
   "outputs": [],
   "source": [
    "dataset.loc[dataset['sentiment'] == 4, 'sentiment'] = 1"
   ]
  },
  {
   "cell_type": "code",
   "execution_count": 11,
   "metadata": {},
   "outputs": [],
   "source": [
    "contractions = pd.read_csv('/Users/sruthipg/Documents/Twitter/CA_2/contractions.csv', index_col='Contraction')\n",
    "contractions.index = contractions.index.str.lower()\n",
    "contractions.Meaning = contractions.Meaning.str.lower()\n",
    "contractions_dict = contractions.to_dict()['Meaning']"
   ]
  },
  {
   "cell_type": "code",
   "execution_count": 12,
   "metadata": {},
   "outputs": [],
   "source": [
    "urlPattern        = r\"(http://[^ ]*|https://[^ ]*|www\\.[^ ]*)\"\n",
    "userPattern       = r'@[^\\s]+'\n",
    "alphaPattern      = r\"[^a-z0-9<>]\"\n",
    "sequencePattern   = r\"(.)\\1\\1+\"\n",
    "seqReplacePattern = r\"\\1\\1\"\n",
    "smileemoji        = r\"[8:=;]['`\\-]?[)d]+\"\n",
    "sademoji          = r\"[8:=;]['`\\-]?\\(+\"\n",
    "neutralemoji      = r\"[8:=;]['`\\-]?[\\/|l*]\"\n",
    "lolemoji          = r\"[8:=;]['`\\-]?p+\"\n",
    "pattern = r'<[^>]*>'"
   ]
  },
  {
   "cell_type": "code",
   "execution_count": 13,
   "metadata": {},
   "outputs": [],
   "source": [
    "def preprocess_apply(tweet):\n",
    "\n",
    "    tweet = tweet.lower()\n",
    "\n",
    "    # Replace all URls with '<url>'\n",
    "    tweet = re.sub(urlPattern,'<url>',tweet)\n",
    "    # Replace @USERNAME to '<user>'.\n",
    "    tweet = re.sub(userPattern,'<user>', tweet)\n",
    "\n",
    "    # Replace 3 or more consecutive letters by 2 letter.\n",
    "    tweet = re.sub(sequencePattern, seqReplacePattern, tweet)\n",
    "\n",
    "    # Replace all emojis.\n",
    "    tweet = re.sub(r'<3', '<heart>', tweet)\n",
    "    tweet = re.sub(smileemoji, '<smile>', tweet)\n",
    "    tweet = re.sub(sademoji, '<sadface>', tweet)\n",
    "    tweet = re.sub(neutralemoji, '<neutralface>', tweet)\n",
    "    tweet = re.sub(lolemoji, '<lolface>', tweet)\n",
    "    tweet = re.sub(pattern, '', tweet)\n",
    "    for contraction, replacement in contractions_dict.items():\n",
    "        tweet = tweet.replace(contraction, replacement)\n",
    "\n",
    "    # Remove non-alphanumeric and symbols\n",
    "    tweet = re.sub(alphaPattern, ' ', tweet)\n",
    "\n",
    "    # Adding space on either side of '/' to seperate words (After replacing URLS).\n",
    "    tweet = re.sub(r'/', ' / ', tweet)\n",
    "    return tweet"
   ]
  },
  {
   "cell_type": "code",
   "execution_count": 14,
   "metadata": {},
   "outputs": [
    {
     "name": "stderr",
     "output_type": "stream",
     "text": [
      "/var/folders/pr/r04ldkqs0n97bc0r__zf7t700000gn/T/ipykernel_18993/4286208092.py:1: SettingWithCopyWarning: \n",
      "A value is trying to be set on a copy of a slice from a DataFrame.\n",
      "Try using .loc[row_indexer,col_indexer] = value instead\n",
      "\n",
      "See the caveats in the documentation: https://pandas.pydata.org/pandas-docs/stable/user_guide/indexing.html#returning-a-view-versus-a-copy\n",
      "  dataset['processed_text'] = dataset['tweets'].apply(preprocess_apply)\n"
     ]
    }
   ],
   "source": [
    "dataset['processed_text'] = dataset['tweets'].apply(preprocess_apply)"
   ]
  },
  {
   "cell_type": "code",
   "execution_count": 15,
   "metadata": {},
   "outputs": [],
   "source": [
    "language = 'english'"
   ]
  },
  {
   "cell_type": "code",
   "execution_count": 16,
   "metadata": {},
   "outputs": [
    {
     "data": {
      "text/plain": [
       "0              aww  thatis a bummer   you shoulda got dav...\n",
       "1          is upset that he cannot update his facebook by...\n",
       "2           i dived many times for the ball  managed to s...\n",
       "3            my whole body feels itchy and like its on fire \n",
       "4           no  it is not behaving at all  i am mad  why ...\n",
       "                                 ...                        \n",
       "1599995    just woke up  having no school is the best fee...\n",
       "1599996    thewdb com   very cool to hear old walt interv...\n",
       "1599997    are you ready for your mojo makeover  ask me f...\n",
       "1599998    happy 38th birthday to my boo of all time   tu...\n",
       "1599999                            happy  charitytuesday    \n",
       "Name: processed_text, Length: 1600000, dtype: object"
      ]
     },
     "execution_count": 16,
     "metadata": {},
     "output_type": "execute_result"
    }
   ],
   "source": [
    "dataset['processed_text'].dropna()"
   ]
  },
  {
   "cell_type": "code",
   "execution_count": 17,
   "metadata": {},
   "outputs": [],
   "source": [
    "corpus = dataset['processed_text'].tolist()"
   ]
  },
  {
   "cell_type": "code",
   "execution_count": 18,
   "metadata": {},
   "outputs": [],
   "source": [
    "def removeWords(listOfTokens, listOfWords):\n",
    "    return [token for token in listOfTokens if token not in listOfWords]"
   ]
  },
  {
   "cell_type": "code",
   "execution_count": 19,
   "metadata": {},
   "outputs": [],
   "source": [
    "def twoLetters(listOfTokens):\n",
    "    twoLetterWord = []  # Initialize an empty list to store tokens that meet the conditions\n",
    "    for token in listOfTokens:  # Iterate over each token in the input list\n",
    "        if len(token) <= 2 or len(token) >= 21:  # Check if the length of the token satisfies the conditions\n",
    "            twoLetterWord.append(token)  # If the condition is met, add the token to the list\n",
    "    return twoLetterWord "
   ]
  },
  {
   "cell_type": "code",
   "execution_count": 20,
   "metadata": {},
   "outputs": [],
   "source": [
    "def gensim_lemmatizer(text, stop_words):\n",
    "    lemmatizer = WordNetLemmatizer()  # Initialize WordNetLemmatizer\n",
    "    return [lemmatizer.lemmatize(word) for word in text if word not in stop_words]"
   ]
  },
  {
   "cell_type": "code",
   "execution_count": 21,
   "metadata": {},
   "outputs": [],
   "source": [
    "def processCorpus(corpus, language):\n",
    "    stopwords = nltk.corpus.stopwords.words(language)\n",
    "    processed_corpus = []\n",
    "    for document in corpus:\n",
    "        document = document.replace(u'\\ufffd', '8')   # Replaces the ASCII '�' symbol with '8'\n",
    "        document = document.replace(',', '')          # Removes commas\n",
    "        document = document.rstrip('\\n')              # Removes line breaks\n",
    "        document = document.casefold()                # Makes all letters lowercase\n",
    "        document = re.sub(r'[^a-zA-Z\\s]', '', document)\n",
    "\n",
    "        document = re.sub('\\W_',' ', document)        # removes specials characters and leaves only words\n",
    "        document = re.sub(\"\\S*\\d\\S*\",\" \", document)   # removes numbers and words concatenated with numbers IE h4ck3r. Removes road names such as BR-381.\n",
    "        document = re.sub(\"\\S*@\\S*\\s?\",\" \", document) # removes emails and mentions (words with @)\n",
    "        document = re.sub(r'http\\S+', '', document)   # removes URLs with http\n",
    "        document = re.sub(r'www\\S+', '', document)    # removes URLs with www\n",
    "\n",
    "\n",
    "        listOfTokens = word_tokenize(document) # It tokenizes the processed document.\n",
    "        twoLetterWord = twoLetters(listOfTokens) # It identifies and removes two-letter words.\n",
    "\n",
    "        listOfTokens = removeWords(listOfTokens, stopwords)\n",
    "        listOfTokens = removeWords(listOfTokens, twoLetterWord)\n",
    "        listOfTokens = gensim_lemmatizer(listOfTokens, stopwords) # It removes stopwords and lemmatizes the remaining tokens.\n",
    "        processed_document = \" \".join(listOfTokens)\n",
    "        processed_document = unidecode(processed_document)  # Apply unidecode to the processed document string\n",
    "        processed_corpus.append(processed_document)\n",
    "\n",
    "    return processed_corpus"
   ]
  },
  {
   "cell_type": "code",
   "execution_count": 23,
   "metadata": {},
   "outputs": [],
   "source": [
    "corpus = processCorpus(corpus, language)"
   ]
  },
  {
   "cell_type": "code",
   "execution_count": 24,
   "metadata": {},
   "outputs": [],
   "source": [
    "tokenized_corpus = [sentence.split() for sentence in corpus]"
   ]
  },
  {
   "cell_type": "code",
   "execution_count": 25,
   "metadata": {},
   "outputs": [],
   "source": [
    "import multiprocessing\n",
    "cores = multiprocessing.cpu_count()"
   ]
  },
  {
   "cell_type": "code",
   "execution_count": 26,
   "metadata": {},
   "outputs": [],
   "source": [
    "model = Word2Vec(tokenized_corpus, min_count=1, workers=cores-1, sg=1,vector_size=500)\n",
    "model.save('word2vec.model')"
   ]
  },
  {
   "cell_type": "code",
   "execution_count": 28,
   "metadata": {},
   "outputs": [],
   "source": [
    "vector_model = Word2Vec.load(\"/Users/sruthipg/Documents/Twitter/CA_2/word2vec.model\")"
   ]
  },
  {
   "cell_type": "code",
   "execution_count": 29,
   "metadata": {},
   "outputs": [
    {
     "name": "stdout",
     "output_type": "stream",
     "text": [
      "Word2Vec<vocab=245201, vector_size=500, alpha=0.025>\n",
      "500\n"
     ]
    },
    {
     "data": {
      "text/plain": [
       "245201"
      ]
     },
     "execution_count": 29,
     "metadata": {},
     "output_type": "execute_result"
    }
   ],
   "source": [
    "print(vector_model)\n",
    "print(vector_model.wv.vector_size)\n",
    "vocab_size = len(vector_model.wv)\n",
    "vocab_size"
   ]
  },
  {
   "cell_type": "code",
   "execution_count": 30,
   "metadata": {},
   "outputs": [],
   "source": [
    "from keras.preprocessing.sequence import pad_sequences\n",
    "from keras.preprocessing.text import Tokenizer"
   ]
  },
  {
   "cell_type": "code",
   "execution_count": 31,
   "metadata": {},
   "outputs": [],
   "source": [
    "df = pd.DataFrame({'Message': tokenized_corpus})\n",
    "token = Tokenizer(num_words=vocab_size)\n",
    "sentences = df['Message'].apply(lambda x: ' '.join(x))\n",
    "token.fit_on_texts(sentences)\n",
    "sequences = token.texts_to_sequences(sentences)\n",
    "max_sequence_length = 500\n",
    "padded_sequences = pad_sequences(sequences, maxlen=max_sequence_length)"
   ]
  },
  {
   "cell_type": "code",
   "execution_count": 62,
   "metadata": {},
   "outputs": [
    {
     "data": {
      "text/plain": [
       "0          aww thatis bummer shoulda got david carr third...\n",
       "1          upset update facebook texting might cry result...\n",
       "2               dived many time ball managed save rest bound\n",
       "3                            whole body feel itchy like fire\n",
       "4                                           behaving mad see\n",
       "                                 ...                        \n",
       "1599995                        woke school best feeling ever\n",
       "1599996              thewdb com cool hear old walt interview\n",
       "1599997                       ready mojo makeover ask detail\n",
       "1599998           happy birthday boo time tupac amaru shakur\n",
       "1599999                                 happy charitytuesday\n",
       "Name: Message, Length: 1600000, dtype: object"
      ]
     },
     "execution_count": 62,
     "metadata": {},
     "output_type": "execute_result"
    }
   ],
   "source": [
    "sentences"
   ]
  },
  {
   "cell_type": "code",
   "execution_count": 32,
   "metadata": {},
   "outputs": [],
   "source": [
    "y = dataset['sentiment']\n",
    "x_train, x_test, y_train, y_test = train_test_split(np.array(padded_sequences), y, test_size=0.2, stratify=y)"
   ]
  },
  {
   "cell_type": "code",
   "execution_count": 33,
   "metadata": {},
   "outputs": [
    {
     "data": {
      "text/plain": [
       "245201"
      ]
     },
     "execution_count": 33,
     "metadata": {},
     "output_type": "execute_result"
    }
   ],
   "source": [
    "input_dim=len(vector_model.wv.index_to_key)\n",
    "input_dim"
   ]
  },
  {
   "cell_type": "code",
   "execution_count": 34,
   "metadata": {},
   "outputs": [],
   "source": [
    "from keras.utils import to_categorical\n",
    "\n",
    "y_train_categorical = to_categorical(y_train)\n",
    "y_test_categorical = to_categorical(y_test)"
   ]
  },
  {
   "cell_type": "code",
   "execution_count": 35,
   "metadata": {},
   "outputs": [],
   "source": [
    "from keras.callbacks import EarlyStopping"
   ]
  },
  {
   "cell_type": "code",
   "execution_count": 36,
   "metadata": {},
   "outputs": [],
   "source": [
    "keras_model = Sequential()\n",
    "keras_model.add(Embedding(input_dim=len(vector_model.wv.index_to_key), output_dim=100, input_length=500))\n",
    "keras_model.add(Dropout(0.2))\n",
    "keras_model.add(Conv1D(50, 2, activation='relu', padding='same', strides=1))\n",
    "keras_model.add(Conv1D(50, 1, activation='relu', padding='same', strides=1))\n",
    "keras_model.add(MaxPool1D())\n",
    "keras_model.add(Dropout(0.2))\n",
    "keras_model.add(Conv1D(100, 3, activation='relu', padding='same', strides=1))\n",
    "keras_model.add(Conv1D(100, 3, activation='relu', padding='same', strides=1))\n",
    "keras_model.add(MaxPool1D())\n",
    "keras_model.add(Dropout(0.2))\n",
    "keras_model.add(Conv1D(200, 3, activation='relu', padding='same', strides=1))\n",
    "keras_model.add(Conv1D(200, 3, activation='relu', padding='same', strides=1))\n",
    "keras_model.add(GlobalMaxPool1D())\n",
    "keras_model.add(Dropout(0.2))\n",
    "keras_model.add(Dense(200))\n",
    "keras_model.add(Activation('relu'))\n",
    "keras_model.add(Dropout(0.2))\n",
    "keras_model.add(Dense(2))\n",
    "keras_model.add(Activation('softmax'))\n",
    "keras_model.compile(loss='binary_crossentropy', metrics=['acc'], optimizer='adam')"
   ]
  },
  {
   "cell_type": "code",
   "execution_count": 37,
   "metadata": {},
   "outputs": [],
   "source": [
    "callbacks = [EarlyStopping(monitor='val_loss')]"
   ]
  },
  {
   "cell_type": "code",
   "execution_count": 38,
   "metadata": {},
   "outputs": [
    {
     "name": "stdout",
     "output_type": "stream",
     "text": [
      "Epoch 1/3\n",
      "80000/80000 [==============================] - 11710s 146ms/step - loss: 0.4887 - acc: 0.7633 - val_loss: 0.4677 - val_acc: 0.7831\n",
      "Epoch 2/3\n",
      "80000/80000 [==============================] - 11859s 148ms/step - loss: 0.4543 - acc: 0.7905 - val_loss: 0.4724 - val_acc: 0.7828\n"
     ]
    }
   ],
   "source": [
    "history = keras_model.fit(x_train, y_train_categorical, batch_size=16, epochs=3, validation_data=(x_test, y_test_categorical), callbacks=callbacks)"
   ]
  },
  {
   "cell_type": "code",
   "execution_count": 39,
   "metadata": {},
   "outputs": [
    {
     "name": "stdout",
     "output_type": "stream",
     "text": [
      "10000/10000 [==============================] - 284s 28ms/step - loss: 0.4724 - acc: 0.7828\n",
      "Test Accuracy: 0.7828249931335449\n"
     ]
    }
   ],
   "source": [
    "loss, accuracy = keras_model.evaluate(x_test, y_test_categorical)\n",
    "print(\"Test Accuracy:\", accuracy)"
   ]
  },
  {
   "cell_type": "code",
   "execution_count": 40,
   "metadata": {},
   "outputs": [
    {
     "name": "stdout",
     "output_type": "stream",
     "text": [
      "Model: \"sequential\"\n",
      "_________________________________________________________________\n",
      " Layer (type)                Output Shape              Param #   \n",
      "=================================================================\n",
      " embedding (Embedding)       (None, 500, 100)          24520100  \n",
      "                                                                 \n",
      " dropout (Dropout)           (None, 500, 100)          0         \n",
      "                                                                 \n",
      " conv1d (Conv1D)             (None, 500, 50)           10050     \n",
      "                                                                 \n",
      " conv1d_1 (Conv1D)           (None, 500, 50)           2550      \n",
      "                                                                 \n",
      " max_pooling1d (MaxPooling1  (None, 250, 50)           0         \n",
      " D)                                                              \n",
      "                                                                 \n",
      " dropout_1 (Dropout)         (None, 250, 50)           0         \n",
      "                                                                 \n",
      " conv1d_2 (Conv1D)           (None, 250, 100)          15100     \n",
      "                                                                 \n",
      " conv1d_3 (Conv1D)           (None, 250, 100)          30100     \n",
      "                                                                 \n",
      " max_pooling1d_1 (MaxPoolin  (None, 125, 100)          0         \n",
      " g1D)                                                            \n",
      "                                                                 \n",
      " dropout_2 (Dropout)         (None, 125, 100)          0         \n",
      "                                                                 \n",
      " conv1d_4 (Conv1D)           (None, 125, 200)          60200     \n",
      "                                                                 \n",
      " conv1d_5 (Conv1D)           (None, 125, 200)          120200    \n",
      "                                                                 \n",
      " global_max_pooling1d (Glob  (None, 200)               0         \n",
      " alMaxPooling1D)                                                 \n",
      "                                                                 \n",
      " dropout_3 (Dropout)         (None, 200)               0         \n",
      "                                                                 \n",
      " dense (Dense)               (None, 200)               40200     \n",
      "                                                                 \n",
      " activation (Activation)     (None, 200)               0         \n",
      "                                                                 \n",
      " dropout_4 (Dropout)         (None, 200)               0         \n",
      "                                                                 \n",
      " dense_1 (Dense)             (None, 2)                 402       \n",
      "                                                                 \n",
      " activation_1 (Activation)   (None, 2)                 0         \n",
      "                                                                 \n",
      "=================================================================\n",
      "Total params: 24798902 (94.60 MB)\n",
      "Trainable params: 24798902 (94.60 MB)\n",
      "Non-trainable params: 0 (0.00 Byte)\n",
      "_________________________________________________________________\n"
     ]
    }
   ],
   "source": [
    "keras_model.summary()"
   ]
  },
  {
   "cell_type": "code",
   "execution_count": 51,
   "metadata": {},
   "outputs": [],
   "source": [
    "# keras_model.save(\"keras_model.h5\")\n",
    "keras_model.load_weights('/Users/sruthipg/Documents/Twitter/CA_2/keras_model.h5')"
   ]
  },
  {
   "cell_type": "code",
   "execution_count": 53,
   "metadata": {},
   "outputs": [],
   "source": [
    "keras_model.save_weights('/Users/sruthipg/Documents/Twitter/CA_2/model_weights.h5')"
   ]
  },
  {
   "cell_type": "code",
   "execution_count": 55,
   "metadata": {},
   "outputs": [],
   "source": [
    "import keras"
   ]
  },
  {
   "cell_type": "code",
   "execution_count": 60,
   "metadata": {},
   "outputs": [
    {
     "data": {
      "text/plain": [
       "'2.15.0'"
      ]
     },
     "execution_count": 60,
     "metadata": {},
     "output_type": "execute_result"
    }
   ],
   "source": [
    "tf. __version__\n"
   ]
  },
  {
   "cell_type": "code",
   "execution_count": 61,
   "metadata": {},
   "outputs": [
    {
     "data": {
      "text/plain": [
       "'2.15.0'"
      ]
     },
     "execution_count": 61,
     "metadata": {},
     "output_type": "execute_result"
    }
   ],
   "source": [
    "keras. __version__"
   ]
  },
  {
   "cell_type": "code",
   "execution_count": 57,
   "metadata": {},
   "outputs": [],
   "source": [
    "keras_model.save('keras_model.keras')"
   ]
  },
  {
   "cell_type": "code",
   "execution_count": 44,
   "metadata": {},
   "outputs": [
    {
     "data": {
      "image/png": "[encoded data removed]",
      "text/plain": [
       "<Figure size 1200x500 with 1 Axes>"
      ]
     },
     "metadata": {},
     "output_type": "display_data"
    }
   ],
   "source": [
    "#Plot the training history\n",
    "plt.figure(figsize=(12, 5))\n",
    "plt.plot(history.history['acc'], color='r')\n",
    "plt.plot(history.history['val_acc'], color='b')\n",
    "plt.title('Model Accuracy')\n",
    "plt.ylabel('Accuracy')\n",
    "plt.xlabel('Epochs')\n",
    "plt.legend(['train', 'val'])\n",
    "plt.show()"
   ]
  },
  {
   "cell_type": "code",
   "execution_count": 45,
   "metadata": {},
   "outputs": [
    {
     "data": {
      "image/png": "[encoded data removed]",
      "text/plain": [
       "<Figure size 1200x500 with 1 Axes>"
      ]
     },
     "metadata": {},
     "output_type": "display_data"
    }
   ],
   "source": [
    "#Plot the loss history\n",
    "plt.figure(figsize=(12, 5))\n",
    "plt.plot(history.history['loss'], color='r')\n",
    "plt.plot(history.history['val_loss'], color='b')\n",
    "plt.title('Model Loss')\n",
    "plt.ylabel('Loss')\n",
    "plt.xlabel('Epochs')\n",
    "plt.legend(['train', 'val'])\n",
    "plt.show()"
   ]
  },
  {
   "cell_type": "code",
   "execution_count": 46,
   "metadata": {},
   "outputs": [
    {
     "data": {
      "text/plain": [
       "'had a wonderful interaction with youngsters from the gaming community   you would love to watch this '"
      ]
     },
     "execution_count": 46,
     "metadata": {},
     "output_type": "execute_result"
    }
   ],
   "source": [
    "text = 'Had a wonderful interaction with youngsters from the gaming community... You would love to watch this!'\n",
    "processed_text = preprocess_apply(text)\n",
    "processed_text"
   ]
  },
  {
   "cell_type": "code",
   "execution_count": 47,
   "metadata": {},
   "outputs": [
    {
     "data": {
      "text/plain": [
       "['wonderful interaction youngster gaming community would love watch']"
      ]
     },
     "execution_count": 47,
     "metadata": {},
     "output_type": "execute_result"
    }
   ],
   "source": [
    "texts = []\n",
    "texts.append(processed_text)\n",
    "processed_corpus = processCorpus(texts,language)\n",
    "processed_corpus"
   ]
  },
  {
   "cell_type": "code",
   "execution_count": 48,
   "metadata": {},
   "outputs": [
    {
     "data": {
      "text/plain": [
       "[['wonderful',\n",
       "  'interaction',\n",
       "  'youngster',\n",
       "  'gaming',\n",
       "  'community',\n",
       "  'would',\n",
       "  'love',\n",
       "  'watch']]"
      ]
     },
     "execution_count": 48,
     "metadata": {},
     "output_type": "execute_result"
    }
   ],
   "source": [
    "tokenized_proccesed_corpus = [sentence.split() for sentence in processed_corpus]\n",
    "tokenized_proccesed_corpus"
   ]
  },
  {
   "cell_type": "code",
   "execution_count": 65,
   "metadata": {},
   "outputs": [
    {
     "name": "stdout",
     "output_type": "stream",
     "text": [
      "1/1 [==============================] - 0s 268ms/step\n",
      "[[0.00995657 0.9900434 ]]\n"
     ]
    }
   ],
   "source": [
    "text = 'Had a wonderful interaction with youngsters from the gaming community... You would love to watch this!'\n",
    "\n",
    "processed_text = preprocess_apply(text)\n",
    "\n",
    "# Process the preprocessed text\n",
    "texts = []\n",
    "texts.append(processed_text)\n",
    "processed_corpus = processCorpus(texts, language)\n",
    "tokenized_processed_corpus = [sentence.split() for sentence in processed_corpus]\n",
    "\n",
    "# Tokenize the processed text\n",
    "processed_sequences = token.texts_to_sequences(tokenized_processed_corpus)\n",
    "\n",
    "# Pad sequences\n",
    "padded_processed_sequences = pad_sequences(processed_sequences, maxlen=max_sequence_length)\n",
    "\n",
    "# Load your model\n",
    "model = tf.keras.models.load_model('/Users/sruthipg/Documents/Twitter/CA_2/keras_model.h5')\n",
    "\n",
    "# Predict sentiment\n",
    "sentiment_prediction = model.predict(padded_processed_sequences)\n",
    "\n",
    "# Output sentiment prediction\n",
    "print(sentiment_prediction)"
   ]
  },
  {
   "cell_type": "code",
   "execution_count": 66,
   "metadata": {},
   "outputs": [
    {
     "data": {
      "text/plain": [
       "1"
      ]
     },
     "execution_count": 66,
     "metadata": {},
     "output_type": "execute_result"
    }
   ],
   "source": [
    "predicted_sentiment = 0 if sentiment_prediction[0][0] > sentiment_prediction[0][1] else 1\n",
    "predicted_sentiment"
   ]
  },
  {
   "cell_type": "code",
   "execution_count": 69,
   "metadata": {},
   "outputs": [
    {
     "name": "stdout",
     "output_type": "stream",
     "text": [
      "1/1 [==============================] - 0s 98ms/step\n",
      "[[0.69769263 0.30230737]]\n"
     ]
    }
   ],
   "source": [
    "text = \"It's hard to forget someone who gave you so much to remember\"\n",
    "\n",
    "processed_text = preprocess_apply(text)\n",
    "\n",
    "# Process the preprocessed text\n",
    "texts = []\n",
    "texts.append(processed_text)\n",
    "processed_corpus = processCorpus(texts, language)\n",
    "tokenized_processed_corpus = [sentence.split() for sentence in processed_corpus]\n",
    "\n",
    "# Tokenize the processed text\n",
    "processed_sequences = token.texts_to_sequences(tokenized_processed_corpus)\n",
    "\n",
    "# Pad sequences\n",
    "padded_processed_sequences = pad_sequences(processed_sequences, maxlen=max_sequence_length)\n",
    "\n",
    "# Load your model\n",
    "model = tf.keras.models.load_model('/Users/sruthipg/Documents/Twitter/CA_2/keras_model.h5')\n",
    "\n",
    "# Predict sentiment\n",
    "sentiment_prediction = model.predict(padded_processed_sequences)\n",
    "\n",
    "# Output sentiment prediction\n",
    "print(sentiment_prediction)\n",
    "# [[0.37782964 0.6221703 ]"
   ]
  },
  {
   "cell_type": "code",
   "execution_count": 70,
   "metadata": {},
   "outputs": [
    {
     "data": {
      "text/plain": [
       "0"
      ]
     },
     "execution_count": 70,
     "metadata": {},
     "output_type": "execute_result"
    }
   ],
   "source": [
    "predicted_sentiment = 0 if sentiment_prediction[0][0] > sentiment_prediction[0][1] else 1\n",
    "predicted_sentiment"
   ]
  },
  {
   "cell_type": "code",
   "execution_count": 71,
   "metadata": {},
   "outputs": [],
   "source": [
    "import pickle"
   ]
  },
  {
   "cell_type": "code",
   "execution_count": 72,
   "metadata": {},
   "outputs": [],
   "source": [
    "with open('tokenizer.pickle', 'wb') as handle:\n",
    "    pickle.dump(token, handle, protocol=pickle.HIGHEST_PROTOCOL)"
   ]
  }
 ],
 "metadata": {
  "kernelspec": {
   "display_name": "Python 3",
   "language": "python",
   "name": "python3"
  },
  "language_info": {
   "codemirror_mode": {
    "name": "ipython",
    "version": 3
   },
   "file_extension": ".py",
   "mimetype": "text/x-python",
   "name": "python",
   "nbconvert_exporter": "python",
   "pygments_lexer": "ipython3",
   "version": "3.11.5"
  }
 },
 "nbformat": 4,
 "nbformat_minor": 2
}
